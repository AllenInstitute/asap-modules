{
 "cells": [
  {
   "cell_type": "code",
   "execution_count": 60,
   "id": "loaded-haiti",
   "metadata": {},
   "outputs": [],
   "source": [
    "import matplotlib\n",
    "%matplotlib inline\n",
    "import matplotlib.pyplot as plt\n",
    "\n",
    "import concurrent.futures\n",
    "import csv\n",
    "import json\n",
    "import urllib\n",
    "import uuid\n",
    "\n",
    "import numpy\n",
    "import renderapi\n",
    "import shapely.geometry\n",
    "import shapely.ops\n",
    "import shapely.affinity\n",
    "import pandas as pd"
   ]
  },
  {
   "cell_type": "code",
   "execution_count": 62,
   "id": "rural-trauma",
   "metadata": {},
   "outputs": [],
   "source": [
    "ra_stack = \"20201020_ra_trial0_correctedmoving\"\n",
    "montage_stack = \"20201020_alignment_montages\"\n",
    "\n",
    "ra_pm_collection = \"v1dd_409828_L1_onscope_issues_corrected_rough\"\n",
    "\n",
    "dataset = \"v1dd\"\n",
    "project = \"409828_L1\"\n",
    "\n",
    "ds_scale = 0.01"
   ]
  },
  {
   "cell_type": "code",
   "execution_count": 95,
   "id": "bridal-secondary",
   "metadata": {},
   "outputs": [],
   "source": [
    "ra_stack = \"20210305_redo1_ra\"\n",
    "montage_stack = \"20201203_rmt_alignment_montages\"\n",
    "\n",
    "ra_pm_collection = [\n",
    "    \"H19_06_356_2_2_1_rough_matches_redo1\",\n",
    "    \"H19_06_356_2_2_1_rough_matches_redo\",\n",
    "    \"H19_06_356_2_2_1_rough_matches\"\n",
    "]\n",
    "\n",
    "dataset = \"human\"\n",
    "project = \"H19_06_356_2_2_1\"\n",
    "\n",
    "ds_scale = 0.01"
   ]
  },
  {
   "cell_type": "code",
   "execution_count": 251,
   "id": "italic-newcastle",
   "metadata": {},
   "outputs": [],
   "source": [
    "ra_stack = \"full_affine_with_anchors_zs7924_ze27882_lam_1e5_registered\"\n",
    "montage_stack = \"em_2d_montage_solved_py\"\n",
    "\n",
    "ra_pm_collection = \"chunk_rough_align_point_matches\"\n",
    "\n",
    "dataset = \"Minnie\"\n",
    "project = \"17797_1R\"\n",
    "\n",
    "ds_scale = 0.01"
   ]
  },
  {
   "cell_type": "code",
   "execution_count": 219,
   "id": "seeing-latter",
   "metadata": {},
   "outputs": [],
   "source": [
    "ra_stack = \"20210428_rmt_tps25_depth4_redoneaff\"\n",
    "montage_stack = \"20210326_alignment_montages\"\n",
    "\n",
    "ra_pm_collection = \"21617_R1_rough_20210426_downsampled_mapped\"\n",
    "\n",
    "dataset = \"Inhibitory\"\n",
    "project = \"21617_R1\"\n",
    "\n",
    "ds_scale = 0.01"
   ]
  },
  {
   "cell_type": "code",
   "execution_count": 252,
   "id": "detailed-healing",
   "metadata": {},
   "outputs": [],
   "source": [
    "render_connect = {\n",
    "   \"owner\": \"TEM\",\n",
    "    \"project\": \"17797_1R\",\n",
    "    \"port\": 8888,\n",
    "    \"host\": \"em-131db2.corp.alleninstitute.org\",\n",
    "    \"client_scripts\": \"\"\n",
    "}\n",
    "render_connect['project'] = project\n",
    "r = renderapi.connect(**render_connect)"
   ]
  },
  {
   "cell_type": "code",
   "execution_count": 253,
   "id": "floral-mission",
   "metadata": {},
   "outputs": [],
   "source": [
    "def combine_resolvedtiles(rts_l):\n",
    "    tforms = {i.transformId: i for l in (rts.transforms for rts in rts_l) for i in l}\n",
    "    tspecs = list({ts.tileId: ts for l in (rts.tilespecs for rts in rts_l) for ts in l}.values())\n",
    "    \n",
    "    return renderapi.resolvedtiles.ResolvedTiles(transformList=tforms, tilespecs=tspecs)"
   ]
  },
  {
   "cell_type": "code",
   "execution_count": 254,
   "id": "generous-arrangement",
   "metadata": {},
   "outputs": [],
   "source": [
    "def angle_between_points(pts_a, pts_b, observer_pts=None):\n",
    "    \"\"\"get angle between points in NxM arrays with optional observer points\n",
    "    where N is number of points and M is dimension of points\n",
    "    \"\"\"\n",
    "    if observer_pts is None:\n",
    "        observer_pts = numpy.zeros_like(pts_a)\n",
    "    a = pts_a - observer_pts\n",
    "    b = pts_b - observer_pts\n",
    "    return numpy.arccos(\n",
    "        numpy.einsum(\"ij,ij->i\", a, b) /  # vectorized dot product\n",
    "        numpy.linalg.norm(a, axis=1) /\n",
    "        numpy.linalg.norm(b, axis=1))\n"
   ]
  },
  {
   "cell_type": "code",
   "execution_count": 255,
   "id": "moved-republican",
   "metadata": {},
   "outputs": [],
   "source": [
    "ra_zs = renderapi.stack.get_z_values_for_stack(ra_stack, render=r) "
   ]
  },
  {
   "cell_type": "code",
   "execution_count": 256,
   "id": "sharp-passenger",
   "metadata": {},
   "outputs": [],
   "source": [
    "num_threads = 60\n",
    "with concurrent.futures.ProcessPoolExecutor(max_workers=num_threads) as e:\n",
    "    rtfut_to_z = {e.submit(renderapi.resolvedtiles.get_resolved_tiles_from_z, ra_stack, z, render=r): z for z in ra_zs}\n",
    "    \n",
    "    z_to_rts = {rtfut_to_z[fut]: fut.result() for fut in concurrent.futures.as_completed(rtfut_to_z)}\n",
    "    "
   ]
  },
  {
   "cell_type": "code",
   "execution_count": 257,
   "id": "banner-mention",
   "metadata": {},
   "outputs": [],
   "source": [
    "matchgroups = {ts.layout.sectionId for ts in (i for l in (rts.tilespecs for rts in z_to_rts.values()) for i in l)}\n",
    "\n",
    "with concurrent.futures.ProcessPoolExecutor(max_workers=num_threads) as e:\n",
    "    futs = [e.submit(renderapi.pointmatch.get_matches_with_group, ra_pm_collection, g, render=r) for g in matchgroups]\n",
    "    \n",
    "    allmatches = [i for l in (fut.result() for fut in concurrent.futures.as_completed(futs)) for i in l]"
   ]
  },
  {
   "cell_type": "code",
   "execution_count": 258,
   "id": "fancy-gabriel",
   "metadata": {},
   "outputs": [],
   "source": [
    "tileId_to_tileId_match = {(m[\"pId\"], m[\"qId\"]): m for m in allmatches}"
   ]
  },
  {
   "cell_type": "code",
   "execution_count": 259,
   "id": "cellular-gender",
   "metadata": {},
   "outputs": [],
   "source": [
    "combined_resolvedtiles = combine_resolvedtiles(z_to_rts.values())\n",
    "tileId_to_tilespecs = {ts.tileId: ts for ts in combined_resolvedtiles.tilespecs}"
   ]
  },
  {
   "cell_type": "code",
   "execution_count": 260,
   "id": "improving-injection",
   "metadata": {},
   "outputs": [],
   "source": [
    "def match_worldcoords_ts(ts, matcharr, sharedTransforms=[]):\n",
    "    # p_matches = numpy.array(match[\"matches\"][\"p\"]).T\n",
    "    # q_matches = numpy.array(match[\"matches\"][\"q\"]).T\n",
    "    \n",
    "    return renderapi.transform.utils.estimate_dstpts(\n",
    "        ts.tforms, src=matcharr, reference_tforms=sharedTransforms)\n",
    "    # q_tformed = renderapi.transform.utils.estimate_dstpts(\n",
    "    #     q_ts.tforms, src=q_matches, reference_tforms=sharedTransforms)\n",
    "    # return q_tformed - p_tformed\n",
    "\n",
    "# TODO include weights?\n",
    "def residuals_from_ts(p_ts, q_ts, match, sharedTransforms=[]):\n",
    "    p_matches = numpy.array(match[\"matches\"][\"p\"]).T\n",
    "    q_matches = numpy.array(match[\"matches\"][\"q\"]).T\n",
    "    \n",
    "    p_tformed = renderapi.transform.utils.estimate_dstpts(\n",
    "        p_ts.tforms, src=p_matches, reference_tforms=sharedTransforms)\n",
    "    q_tformed = renderapi.transform.utils.estimate_dstpts(\n",
    "        q_ts.tforms, src=q_matches, reference_tforms=sharedTransforms)\n",
    "    return q_tformed - p_tformed\n"
   ]
  },
  {
   "cell_type": "code",
   "execution_count": 261,
   "id": "designing-sphere",
   "metadata": {},
   "outputs": [],
   "source": [
    "tileId_to_tileId_tformed_pts = {}\n",
    "for (pId, qId), match in tileId_to_tileId_match.items():\n",
    "    try:\n",
    "        p_ts = tileId_to_tilespecs[pId]\n",
    "        q_ts = tileId_to_tilespecs[qId]\n",
    "    except KeyError:\n",
    "        continue\n",
    "    p_matches = numpy.array(match[\"matches\"][\"p\"]).T\n",
    "    q_matches = numpy.array(match[\"matches\"][\"q\"]).T\n",
    "    \n",
    "\n",
    "    tileId_to_tileId_tformed_pts[(pId, qId)] = (\n",
    "        match_worldcoords_ts(\n",
    "            p_ts, p_matches, combined_resolvedtiles.transforms),\n",
    "        match_worldcoords_ts(\n",
    "            q_ts, q_matches, combined_resolvedtiles.transforms)\n",
    "    )\n"
   ]
  },
  {
   "cell_type": "code",
   "execution_count": 262,
   "id": "whole-reverse",
   "metadata": {},
   "outputs": [
    {
     "name": "stderr",
     "output_type": "stream",
     "text": [
      "<ipython-input-254-ff4aca974ccd>:9: RuntimeWarning: invalid value encountered in arccos\n",
      "  return numpy.arccos(\n"
     ]
    }
   ],
   "source": [
    "# center of mass calculation\n",
    "\n",
    "# for now, proxying by doing center of source point matches\n",
    "tileId_to_tileId_residuals = {}\n",
    "tileId_to_tileId_angular_residuals = {}\n",
    "\n",
    "for (pId, qId), (p_pts, q_pts) in tileId_to_tileId_tformed_pts.items():\n",
    "    p_ctr = p_pts.mean(axis=0)\n",
    "\n",
    "    ang_residuals = angle_between_points(p_pts, q_pts, p_ctr)\n",
    "    residuals = p_pts - q_pts\n",
    "    \n",
    "    tileId_to_tileId_residuals[(pId, qId)] = residuals\n",
    "    tileId_to_tileId_angular_residuals[(pId, qId)] = ang_residuals"
   ]
  },
  {
   "cell_type": "code",
   "execution_count": 263,
   "id": "thousand-biology",
   "metadata": {},
   "outputs": [],
   "source": [
    "# angular residuals\n",
    "import numpy as np\n",
    "median_angular_residuals = []\n",
    "for k in tileId_to_tileId_angular_residuals.items():\n",
    "    median_angular_residuals.append(np.nanmedian(k[1]))"
   ]
  },
  {
   "cell_type": "code",
   "execution_count": 264,
   "id": "naval-quarterly",
   "metadata": {},
   "outputs": [],
   "source": [
    "mard = []\n",
    "for k in tileId_to_tileId_angular_residuals.items():\n",
    "    mard.append(np.nanmedian(np.rad2deg(k[1])))"
   ]
  },
  {
   "cell_type": "code",
   "execution_count": 271,
   "id": "billion-raleigh",
   "metadata": {},
   "outputs": [],
   "source": [
    "df = pd.DataFrame(data={\"median residual\": median_angular_residuals})\n",
    "df.to_pickle(\"/allen/programs/celltypes/workgroups/em-connectomics/gayathrim/paper/{}_rough_angular_residuals_radians.pkl\".format(dataset))"
   ]
  },
  {
   "cell_type": "code",
   "execution_count": 272,
   "id": "usual-irish",
   "metadata": {},
   "outputs": [],
   "source": [
    "df = pd.DataFrame(data={\"median residual\": mard})\n",
    "df.to_pickle(\"/allen/programs/celltypes/workgroups/em-connectomics/gayathrim/paper/{}_rough_angular_residuals_degrees.pkl\".format(dataset))"
   ]
  },
  {
   "cell_type": "code",
   "execution_count": 270,
   "id": "empirical-condition",
   "metadata": {
    "scrolled": true
   },
   "outputs": [],
   "source": [
    "for m in median_angular_residuals:\n",
    "    if m > 5:\n",
    "        print(m)"
   ]
  },
  {
   "cell_type": "code",
   "execution_count": null,
   "id": "synthetic-reception",
   "metadata": {},
   "outputs": [],
   "source": [
    "tileId_to_z = {ts.tileId: ts.z for ts in combined_resolvedtiles.tilespecs}"
   ]
  },
  {
   "cell_type": "code",
   "execution_count": null,
   "id": "asian-mumbai",
   "metadata": {},
   "outputs": [],
   "source": [
    "def get_ctrthreshold_filter(arr, threshold):\n",
    "    return numpy.linalg.norm(arr - arr.mean(axis=0), axis=1) > threshold"
   ]
  },
  {
   "cell_type": "code",
   "execution_count": null,
   "id": "outdoor-aggregate",
   "metadata": {},
   "outputs": [],
   "source": [
    "depth = 2\n",
    "bad_pIds, bad_qIds = zip(*[(pId, qId) for (pId, qId), angarr in tileId_to_tileId_angular_residuals.items()\n",
    "    if abs(tileId_to_z[pId] - tileId_to_z[qId]) < depth\n",
    "    and numpy.rad2deg(angarr[get_ctrthreshold_filter(\n",
    "        tileId_to_tileId_tformed_pts[(pId, qId)][0], 35)].max()) >= 5])"
   ]
  }
 ],
 "metadata": {
  "kernelspec": {
   "display_name": "rendermodules",
   "language": "python",
   "name": "rendermodules"
  },
  "language_info": {
   "codemirror_mode": {
    "name": "ipython",
    "version": 3
   },
   "file_extension": ".py",
   "mimetype": "text/x-python",
   "name": "python",
   "nbconvert_exporter": "python",
   "pygments_lexer": "ipython3",
   "version": "3.8.5"
  }
 },
 "nbformat": 4,
 "nbformat_minor": 5
}
