{
 "cells": [
  {
   "cell_type": "code",
   "execution_count": 1,
   "metadata": {},
   "outputs": [],
   "source": [
    "# qc rough alignment in downsampled stack\n",
    "#   differs from render-modules\n",
    "#     point-match derived residuals including angular residuals\n"
   ]
  },
  {
   "cell_type": "code",
   "execution_count": 2,
   "metadata": {},
   "outputs": [],
   "source": [
    "import matplotlib\n",
    "%matplotlib inline\n",
    "import matplotlib.pyplot as plt"
   ]
  },
  {
   "cell_type": "code",
   "execution_count": 3,
   "metadata": {},
   "outputs": [],
   "source": [
    "import concurrent.futures\n",
    "import csv\n",
    "import json\n",
    "import urllib\n",
    "import uuid\n",
    "\n",
    "import numpy\n",
    "import renderapi\n",
    "import shapely.geometry\n",
    "import shapely.ops\n",
    "import shapely.affinity"
   ]
  },
  {
   "cell_type": "code",
   "execution_count": 28,
   "metadata": {},
   "outputs": [],
   "source": [
    "render_connect = {\n",
    "   \"owner\": \"TEM\",\n",
    "    \"project\": \"409828_L1\",\n",
    "    \"port\": 8888,\n",
    "    \"host\": \"em-131db2.corp.alleninstitute.org\",\n",
    "    \"client_scripts\": \"\"\n",
    "}\n",
    "r = renderapi.connect(**render_connect)"
   ]
  },
  {
   "cell_type": "code",
   "execution_count": 5,
   "metadata": {},
   "outputs": [],
   "source": [
    "# map_fn = \"/allen/programs/celltypes/workgroups/em-connectomics/russelt/20200428_grid_idx_z_idx_mapping.tsv\"\n",
    "# with open(map_fn, \"r\") as f:\n",
    "#     z_mapping = {int(k): int(v) for k, v in csv.reader(f, delimiter=\"\\t\")}\n",
    "# inv_z_mapping = {v: k for k, v in z_mapping.items()}\n",
    "\n",
    "map_fn = \"/allen/programs/celltypes/workgroups/em-connectomics/russelt/20210111_zidx_sectionidx_map.tsv\"\n",
    "with open(map_fn, \"r\") as f:\n",
    "    z_to_sid = {int(k): int(v) for k, v in csv.reader(f, delimiter=\"\\t\")}\n",
    "sid_to_z = {v: k for k, v in z_to_sid.items()}"
   ]
  },
  {
   "cell_type": "code",
   "execution_count": 29,
   "metadata": {},
   "outputs": [],
   "source": [
    "# ra_stack = \"20200609_tps25_aligned\"\n",
    "ra_stack = \"20210114_inhib_tps25_ra\"\n",
    "montage_stack = \"em_2d_montage_solved_py\"\n",
    "\n",
    "ra_pm_collection = \"21617_R1_rough_matches\"\n",
    "\n",
    "ds_scale = 0.01"
   ]
  },
  {
   "cell_type": "code",
   "execution_count": 30,
   "metadata": {},
   "outputs": [],
   "source": [
    "ra_stack = \"rough_aligned_tps_remapped\"\n",
    "montage_stack = \"20201020_alignment_montages\"\n",
    "\n",
    "ra_pm_collection = \"v1dd_409828_L1_rough_matches_remapped\"\n",
    "\n",
    "ds_scale = 0.01"
   ]
  },
  {
   "cell_type": "code",
   "execution_count": 7,
   "metadata": {},
   "outputs": [],
   "source": [
    "# tosolve_zs_fn = \"/allen/programs/celltypes/workgroups/em-connectomics/russelt/20201023_redone_zs.txt\"\n",
    "\n",
    "# with open(tosolve_zs_fn, \"r\") as f:\n",
    "#     zs_tosolve = [int(ln.strip()) for ln in f.readlines()]"
   ]
  },
  {
   "cell_type": "code",
   "execution_count": 8,
   "metadata": {},
   "outputs": [],
   "source": [
    "# g_z_map_fn = \"/allen/programs/celltypes/workgroups/em-connectomics/russelt/20201021_v1dd_materialization/20201023_v1dd_redone_grididx_zidx.tsv\"\n",
    "\n",
    "# with open(g_z_map_fn, \"w\") as f:\n",
    "#     for z in set(zs_tosolve) & set(ra_zs):\n",
    "#         f.write(f\"{inv_z_mapping[int(z)]}\\t{int(z)}\\n\")\n",
    "\n"
   ]
  },
  {
   "cell_type": "code",
   "execution_count": 31,
   "metadata": {},
   "outputs": [],
   "source": [
    "def combine_resolvedtiles(rts_l):\n",
    "    tforms = {i.transformId: i for l in (rts.transforms for rts in rts_l) for i in l}\n",
    "    tspecs = list({ts.tileId: ts for l in (rts.tilespecs for rts in rts_l) for ts in l}.values())\n",
    "    \n",
    "    return renderapi.resolvedtiles.ResolvedTiles(transformList=tforms, tilespecs=tspecs)"
   ]
  },
  {
   "cell_type": "code",
   "execution_count": 32,
   "metadata": {},
   "outputs": [],
   "source": [
    "def angle_between_points(pts_a, pts_b, observer_pts=None):\n",
    "    \"\"\"get angle between points in NxM arrays with optional observer points\n",
    "    where N is number of points and M is dimension of points\n",
    "    \"\"\"\n",
    "    if observer_pts is None:\n",
    "        observer_pts = numpy.zeros_like(pts_a)\n",
    "    a = pts_a - observer_pts\n",
    "    b = pts_b - observer_pts\n",
    "    return numpy.arccos(\n",
    "        numpy.einsum(\"ij,ij->i\", a, b) /  # vectorized dot product\n",
    "        numpy.linalg.norm(a, axis=1) /\n",
    "        numpy.linalg.norm(b, axis=1))"
   ]
  },
  {
   "cell_type": "code",
   "execution_count": 33,
   "metadata": {},
   "outputs": [],
   "source": [
    "solve_range = (1, 17347)\n",
    "\n",
    "ra_zs = [z for z in renderapi.stack.get_z_values_for_stack(ra_stack, render=r) if solve_range[0] <= z <= solve_range[-1]]\n"
   ]
  },
  {
   "cell_type": "code",
   "execution_count": 12,
   "metadata": {},
   "outputs": [],
   "source": [
    "num_threads = 60\n",
    "with concurrent.futures.ProcessPoolExecutor(max_workers=num_threads) as e:\n",
    "    rtfut_to_z = {e.submit(renderapi.resolvedtiles.get_resolved_tiles_from_z, ra_stack, z, render=r): z for z in ra_zs}\n",
    "    \n",
    "    z_to_rts = {rtfut_to_z[fut]: fut.result() for fut in concurrent.futures.as_completed(rtfut_to_z)}\n",
    "    "
   ]
  },
  {
   "cell_type": "code",
   "execution_count": 13,
   "metadata": {},
   "outputs": [],
   "source": [
    "matchgroups = {ts.layout.sectionId for ts in (i for l in (rts.tilespecs for rts in z_to_rts.values()) for i in l)}\n",
    "\n",
    "with concurrent.futures.ProcessPoolExecutor(max_workers=num_threads) as e:\n",
    "    futs = [e.submit(renderapi.pointmatch.get_matches_with_group, ra_pm_collection, g, render=r) for g in matchgroups]\n",
    "    \n",
    "    allmatches = [i for l in (fut.result() for fut in concurrent.futures.as_completed(futs)) for i in l]"
   ]
  },
  {
   "cell_type": "code",
   "execution_count": 14,
   "metadata": {},
   "outputs": [],
   "source": [
    "tileId_to_tileId_match = {(m[\"pId\"], m[\"qId\"]): m for m in allmatches}"
   ]
  },
  {
   "cell_type": "code",
   "execution_count": 15,
   "metadata": {},
   "outputs": [],
   "source": [
    "combined_resolvedtiles = combine_resolvedtiles(z_to_rts.values())\n",
    "tileId_to_tilespecs = {ts.tileId: ts for ts in combined_resolvedtiles.tilespecs}"
   ]
  },
  {
   "cell_type": "code",
   "execution_count": 16,
   "metadata": {},
   "outputs": [],
   "source": [
    "def match_worldcoords_ts(ts, matcharr, sharedTransforms=[]):\n",
    "    # p_matches = numpy.array(match[\"matches\"][\"p\"]).T\n",
    "    # q_matches = numpy.array(match[\"matches\"][\"q\"]).T\n",
    "    \n",
    "    return renderapi.transform.utils.estimate_dstpts(\n",
    "        ts.tforms, src=matcharr, reference_tforms=sharedTransforms)\n",
    "    # q_tformed = renderapi.transform.utils.estimate_dstpts(\n",
    "    #     q_ts.tforms, src=q_matches, reference_tforms=sharedTransforms)\n",
    "    # return q_tformed - p_tformed\n",
    "\n",
    "# TODO include weights?\n",
    "def residuals_from_ts(p_ts, q_ts, match, sharedTransforms=[]):\n",
    "    p_matches = numpy.array(match[\"matches\"][\"p\"]).T\n",
    "    q_matches = numpy.array(match[\"matches\"][\"q\"]).T\n",
    "    \n",
    "    p_tformed = renderapi.transform.utils.estimate_dstpts(\n",
    "        p_ts.tforms, src=p_matches, reference_tforms=sharedTransforms)\n",
    "    q_tformed = renderapi.transform.utils.estimate_dstpts(\n",
    "        q_ts.tforms, src=q_matches, reference_tforms=sharedTransforms)\n",
    "    return q_tformed - p_tformed\n"
   ]
  },
  {
   "cell_type": "code",
   "execution_count": 17,
   "metadata": {},
   "outputs": [],
   "source": [
    "tileId_to_tileId_tformed_pts = {}\n",
    "for (pId, qId), match in tileId_to_tileId_match.items():\n",
    "    try:\n",
    "        p_ts = tileId_to_tilespecs[pId]\n",
    "        q_ts = tileId_to_tilespecs[qId]\n",
    "    except KeyError:\n",
    "        continue\n",
    "    p_matches = numpy.array(match[\"matches\"][\"p\"]).T\n",
    "    q_matches = numpy.array(match[\"matches\"][\"q\"]).T\n",
    "    \n",
    "\n",
    "    tileId_to_tileId_tformed_pts[(pId, qId)] = (\n",
    "        match_worldcoords_ts(\n",
    "            p_ts, p_matches, combined_resolvedtiles.transforms),\n",
    "        match_worldcoords_ts(\n",
    "            q_ts, q_matches, combined_resolvedtiles.transforms)\n",
    "    )\n"
   ]
  },
  {
   "cell_type": "code",
   "execution_count": 18,
   "metadata": {},
   "outputs": [
    {
     "name": "stderr",
     "output_type": "stream",
     "text": [
      "<ipython-input-10-ff4aca974ccd>:9: RuntimeWarning: invalid value encountered in arccos\n",
      "  return numpy.arccos(\n"
     ]
    }
   ],
   "source": [
    "# center of mass calculation\n",
    "\n",
    "# for now, proxying by doing center of source point matches\n",
    "tileId_to_tileId_residuals = {}\n",
    "tileId_to_tileId_angular_residuals = {}\n",
    "\n",
    "for (pId, qId), (p_pts, q_pts) in tileId_to_tileId_tformed_pts.items():\n",
    "    p_ctr = p_pts.mean(axis=0)\n",
    "\n",
    "    ang_residuals = angle_between_points(p_pts, q_pts, p_ctr)\n",
    "    residuals = p_pts - q_pts\n",
    "    \n",
    "    tileId_to_tileId_residuals[(pId, qId)] = residuals\n",
    "    tileId_to_tileId_angular_residuals[(pId, qId)] = ang_residuals"
   ]
  },
  {
   "cell_type": "code",
   "execution_count": 19,
   "metadata": {},
   "outputs": [],
   "source": [
    "tileId_to_z = {ts.tileId: ts.z for ts in combined_resolvedtiles.tilespecs}"
   ]
  },
  {
   "cell_type": "code",
   "execution_count": 20,
   "metadata": {},
   "outputs": [],
   "source": [
    "def get_ctrthreshold_filter(arr, threshold):\n",
    "    return numpy.linalg.norm(arr - arr.mean(axis=0), axis=1) > threshold"
   ]
  },
  {
   "cell_type": "code",
   "execution_count": 21,
   "metadata": {},
   "outputs": [],
   "source": [
    "depth = 2\n",
    "bad_pIds, bad_qIds = zip(*[(pId, qId) for (pId, qId), angarr in tileId_to_tileId_angular_residuals.items()\n",
    "    if abs(tileId_to_z[pId] - tileId_to_z[qId]) < depth\n",
    "    and numpy.rad2deg(angarr[get_ctrthreshold_filter(\n",
    "        tileId_to_tileId_tformed_pts[(pId, qId)][0], 35)].max()) >= 5])"
   ]
  },
  {
   "cell_type": "code",
   "execution_count": 22,
   "metadata": {},
   "outputs": [
    {
     "data": {
      "text/plain": [
       "(28, 28, 56)"
      ]
     },
     "execution_count": 22,
     "metadata": {},
     "output_type": "execute_result"
    }
   ],
   "source": [
    "len(set(bad_pIds)), len(set(bad_qIds)), len(set(bad_pIds) | set(bad_qIds))"
   ]
  },
  {
   "cell_type": "code",
   "execution_count": 23,
   "metadata": {},
   "outputs": [
    {
     "data": {
      "text/plain": [
       "56"
      ]
     },
     "execution_count": 23,
     "metadata": {},
     "output_type": "execute_result"
    }
   ],
   "source": [
    "bad_tiles = set(bad_pIds) | set(bad_qIds)\n",
    "len(bad_tiles)"
   ]
  },
  {
   "cell_type": "code",
   "execution_count": null,
   "metadata": {
    "scrolled": true
   },
   "outputs": [],
   "source": [
    "for bad_z in sorted({tileId_to_z[tId] for tId in bad_tiles}):\n",
    "    print(int(bad_z))"
   ]
  },
  {
   "cell_type": "code",
   "execution_count": null,
   "metadata": {},
   "outputs": [],
   "source": [
    "somezs = [241, 464, 690, 760, 984, 1151, 1657, 1897, 3155]\n",
    "for z in somezs:\n",
    "    print(inv_z_mapping[z])"
   ]
  },
  {
   "cell_type": "code",
   "execution_count": 24,
   "metadata": {
    "scrolled": true
   },
   "outputs": [],
   "source": [
    "# angular residuals\n",
    "import numpy as np\n",
    "median_angular_residuals = []\n",
    "for k in tileId_to_tileId_angular_residuals.items():\n",
    "    median_angular_residuals.append(np.nanmedian(k[1]))"
   ]
  },
  {
   "cell_type": "code",
   "execution_count": 27,
   "metadata": {},
   "outputs": [
    {
     "name": "stdout",
     "output_type": "stream",
     "text": [
      "69042\n",
      "17305\n"
     ]
    }
   ],
   "source": [
    "print(len(median_angular_residuals))\n",
    "import pandas as pd\n",
    "print(len(ra_zs))\n",
    "\n",
    "df = pd.DataFrame(data={\"median residual\": median_angular_residuals})\n",
    "df.to_pickle(\"/allen/programs/celltypes/workgroups/em-connectomics/gayathrim/paper/inhibitory_rough_angular_residuals.pkl\")"
   ]
  },
  {
   "cell_type": "code",
   "execution_count": null,
   "metadata": {},
   "outputs": [],
   "source": []
  }
 ],
 "metadata": {
  "kernelspec": {
   "display_name": "Python 3",
   "language": "python",
   "name": "python3"
  },
  "language_info": {
   "codemirror_mode": {
    "name": "ipython",
    "version": 3
   },
   "file_extension": ".py",
   "mimetype": "text/x-python",
   "name": "python",
   "nbconvert_exporter": "python",
   "pygments_lexer": "ipython3",
   "version": "3.8.5"
  }
 },
 "nbformat": 4,
 "nbformat_minor": 4
}
